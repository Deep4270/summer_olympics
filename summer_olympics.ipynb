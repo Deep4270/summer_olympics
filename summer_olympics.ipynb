{
  "nbformat": 4,
  "nbformat_minor": 0,
  "metadata": {
    "colab": {
      "name": "summer_olympics.ipynb",
      "provenance": []
    },
    "kernelspec": {
      "name": "python3",
      "display_name": "Python 3"
    },
    "language_info": {
      "name": "python"
    }
  },
  "cells": [
    {
      "cell_type": "code",
      "metadata": {
        "id": "XQQ1LB7YiF6H"
      },
      "source": [
        "import pandas as pd\n",
        "import numpy as py\n",
        "import matplotlib.pyplot as plt"
      ],
      "execution_count": 88,
      "outputs": []
    },
    {
      "cell_type": "code",
      "metadata": {
        "id": "rwBlhAjpiryt"
      },
      "source": [
        "df = pd.read_csv(\"summer.csv\")"
      ],
      "execution_count": 89,
      "outputs": []
    },
    {
      "cell_type": "code",
      "metadata": {
        "colab": {
          "base_uri": "https://localhost:8080/",
          "height": 417
        },
        "id": "gEWYyw4Uiu6v",
        "outputId": "0e1b1057-8ee1-4dec-816a-d6ab353b55dd"
      },
      "source": [
        "df"
      ],
      "execution_count": 90,
      "outputs": [
        {
          "output_type": "execute_result",
          "data": {
            "text/html": [
              "<div>\n",
              "<style scoped>\n",
              "    .dataframe tbody tr th:only-of-type {\n",
              "        vertical-align: middle;\n",
              "    }\n",
              "\n",
              "    .dataframe tbody tr th {\n",
              "        vertical-align: top;\n",
              "    }\n",
              "\n",
              "    .dataframe thead th {\n",
              "        text-align: right;\n",
              "    }\n",
              "</style>\n",
              "<table border=\"1\" class=\"dataframe\">\n",
              "  <thead>\n",
              "    <tr style=\"text-align: right;\">\n",
              "      <th></th>\n",
              "      <th>Year</th>\n",
              "      <th>City</th>\n",
              "      <th>Sport</th>\n",
              "      <th>Discipline</th>\n",
              "      <th>Athlete</th>\n",
              "      <th>Country</th>\n",
              "      <th>Gender</th>\n",
              "      <th>Event</th>\n",
              "      <th>Medal</th>\n",
              "    </tr>\n",
              "  </thead>\n",
              "  <tbody>\n",
              "    <tr>\n",
              "      <th>0</th>\n",
              "      <td>1896</td>\n",
              "      <td>Athens</td>\n",
              "      <td>Aquatics</td>\n",
              "      <td>Swimming</td>\n",
              "      <td>HAJOS, Alfred</td>\n",
              "      <td>HUN</td>\n",
              "      <td>Men</td>\n",
              "      <td>100M Freestyle</td>\n",
              "      <td>Gold</td>\n",
              "    </tr>\n",
              "    <tr>\n",
              "      <th>1</th>\n",
              "      <td>1896</td>\n",
              "      <td>Athens</td>\n",
              "      <td>Aquatics</td>\n",
              "      <td>Swimming</td>\n",
              "      <td>HERSCHMANN, Otto</td>\n",
              "      <td>AUT</td>\n",
              "      <td>Men</td>\n",
              "      <td>100M Freestyle</td>\n",
              "      <td>Silver</td>\n",
              "    </tr>\n",
              "    <tr>\n",
              "      <th>2</th>\n",
              "      <td>1896</td>\n",
              "      <td>Athens</td>\n",
              "      <td>Aquatics</td>\n",
              "      <td>Swimming</td>\n",
              "      <td>DRIVAS, Dimitrios</td>\n",
              "      <td>GRE</td>\n",
              "      <td>Men</td>\n",
              "      <td>100M Freestyle For Sailors</td>\n",
              "      <td>Bronze</td>\n",
              "    </tr>\n",
              "    <tr>\n",
              "      <th>3</th>\n",
              "      <td>1896</td>\n",
              "      <td>Athens</td>\n",
              "      <td>Aquatics</td>\n",
              "      <td>Swimming</td>\n",
              "      <td>MALOKINIS, Ioannis</td>\n",
              "      <td>GRE</td>\n",
              "      <td>Men</td>\n",
              "      <td>100M Freestyle For Sailors</td>\n",
              "      <td>Gold</td>\n",
              "    </tr>\n",
              "    <tr>\n",
              "      <th>4</th>\n",
              "      <td>1896</td>\n",
              "      <td>Athens</td>\n",
              "      <td>Aquatics</td>\n",
              "      <td>Swimming</td>\n",
              "      <td>CHASAPIS, Spiridon</td>\n",
              "      <td>GRE</td>\n",
              "      <td>Men</td>\n",
              "      <td>100M Freestyle For Sailors</td>\n",
              "      <td>Silver</td>\n",
              "    </tr>\n",
              "    <tr>\n",
              "      <th>...</th>\n",
              "      <td>...</td>\n",
              "      <td>...</td>\n",
              "      <td>...</td>\n",
              "      <td>...</td>\n",
              "      <td>...</td>\n",
              "      <td>...</td>\n",
              "      <td>...</td>\n",
              "      <td>...</td>\n",
              "      <td>...</td>\n",
              "    </tr>\n",
              "    <tr>\n",
              "      <th>31160</th>\n",
              "      <td>2012</td>\n",
              "      <td>London</td>\n",
              "      <td>Wrestling</td>\n",
              "      <td>Wrestling Freestyle</td>\n",
              "      <td>JANIKOWSKI, Damian</td>\n",
              "      <td>POL</td>\n",
              "      <td>Men</td>\n",
              "      <td>Wg 84 KG</td>\n",
              "      <td>Bronze</td>\n",
              "    </tr>\n",
              "    <tr>\n",
              "      <th>31161</th>\n",
              "      <td>2012</td>\n",
              "      <td>London</td>\n",
              "      <td>Wrestling</td>\n",
              "      <td>Wrestling Freestyle</td>\n",
              "      <td>REZAEI, Ghasem Gholamreza</td>\n",
              "      <td>IRI</td>\n",
              "      <td>Men</td>\n",
              "      <td>Wg 96 KG</td>\n",
              "      <td>Gold</td>\n",
              "    </tr>\n",
              "    <tr>\n",
              "      <th>31162</th>\n",
              "      <td>2012</td>\n",
              "      <td>London</td>\n",
              "      <td>Wrestling</td>\n",
              "      <td>Wrestling Freestyle</td>\n",
              "      <td>TOTROV, Rustam</td>\n",
              "      <td>RUS</td>\n",
              "      <td>Men</td>\n",
              "      <td>Wg 96 KG</td>\n",
              "      <td>Silver</td>\n",
              "    </tr>\n",
              "    <tr>\n",
              "      <th>31163</th>\n",
              "      <td>2012</td>\n",
              "      <td>London</td>\n",
              "      <td>Wrestling</td>\n",
              "      <td>Wrestling Freestyle</td>\n",
              "      <td>ALEKSANYAN, Artur</td>\n",
              "      <td>ARM</td>\n",
              "      <td>Men</td>\n",
              "      <td>Wg 96 KG</td>\n",
              "      <td>Bronze</td>\n",
              "    </tr>\n",
              "    <tr>\n",
              "      <th>31164</th>\n",
              "      <td>2012</td>\n",
              "      <td>London</td>\n",
              "      <td>Wrestling</td>\n",
              "      <td>Wrestling Freestyle</td>\n",
              "      <td>LIDBERG, Jimmy</td>\n",
              "      <td>SWE</td>\n",
              "      <td>Men</td>\n",
              "      <td>Wg 96 KG</td>\n",
              "      <td>Bronze</td>\n",
              "    </tr>\n",
              "  </tbody>\n",
              "</table>\n",
              "<p>31165 rows × 9 columns</p>\n",
              "</div>"
            ],
            "text/plain": [
              "       Year    City      Sport  ... Gender                       Event   Medal\n",
              "0      1896  Athens   Aquatics  ...    Men              100M Freestyle    Gold\n",
              "1      1896  Athens   Aquatics  ...    Men              100M Freestyle  Silver\n",
              "2      1896  Athens   Aquatics  ...    Men  100M Freestyle For Sailors  Bronze\n",
              "3      1896  Athens   Aquatics  ...    Men  100M Freestyle For Sailors    Gold\n",
              "4      1896  Athens   Aquatics  ...    Men  100M Freestyle For Sailors  Silver\n",
              "...     ...     ...        ...  ...    ...                         ...     ...\n",
              "31160  2012  London  Wrestling  ...    Men                    Wg 84 KG  Bronze\n",
              "31161  2012  London  Wrestling  ...    Men                    Wg 96 KG    Gold\n",
              "31162  2012  London  Wrestling  ...    Men                    Wg 96 KG  Silver\n",
              "31163  2012  London  Wrestling  ...    Men                    Wg 96 KG  Bronze\n",
              "31164  2012  London  Wrestling  ...    Men                    Wg 96 KG  Bronze\n",
              "\n",
              "[31165 rows x 9 columns]"
            ]
          },
          "metadata": {},
          "execution_count": 90
        }
      ]
    },
    {
      "cell_type": "markdown",
      "metadata": {
        "id": "69Nradebi5rS"
      },
      "source": [
        "#1. In how many cities Summer Olympics is held so far?"
      ]
    },
    {
      "cell_type": "code",
      "metadata": {
        "colab": {
          "base_uri": "https://localhost:8080/"
        },
        "id": "F4gjUrvxixgo",
        "outputId": "bf021053-1e92-46e4-d828-554889d27bb3"
      },
      "source": [
        "cities=df['City'].unique()\n",
        "print(cities)\n",
        "print(\"Number of cities where Summer Olympics held:- \", len(cities))"
      ],
      "execution_count": 91,
      "outputs": [
        {
          "output_type": "stream",
          "name": "stdout",
          "text": [
            "['Athens' 'Paris' 'St Louis' 'London' 'Stockholm' 'Antwerp' 'Amsterdam'\n",
            " 'Los Angeles' 'Berlin' 'Helsinki' 'Melbourne / Stockholm' 'Rome' 'Tokyo'\n",
            " 'Mexico' 'Munich' 'Montreal' 'Moscow' 'Seoul' 'Barcelona' 'Atlanta'\n",
            " 'Sydney' 'Beijing']\n",
            "Number of cities where Summer Olympics held:-  22\n"
          ]
        }
      ]
    },
    {
      "cell_type": "markdown",
      "metadata": {
        "id": "rB1htRjgjwYT"
      },
      "source": [
        "#2. Which sport is having most number of Gold Medals so far? (Top 5)\n"
      ]
    },
    {
      "cell_type": "code",
      "metadata": {
        "colab": {
          "base_uri": "https://localhost:8080/",
          "height": 203
        },
        "id": "zamja4jijuTo",
        "outputId": "f684748f-70d9-47d3-ddb7-c073b8839327"
      },
      "source": [
        "df=df[df['Medal']=='Gold']\n",
        "data=[]\n",
        "for sport in df['Sport'].unique():\n",
        "    data.append([sport, len(df[df['Sport']==sport])])\n",
        "\n",
        "data=pd.DataFrame(data, columns=['Sport' , 'Gold'])\n",
        "data.sort_values(by='Gold', ascending=False).head()\n"
      ],
      "execution_count": 92,
      "outputs": [
        {
          "output_type": "execute_result",
          "data": {
            "text/html": [
              "<div>\n",
              "<style scoped>\n",
              "    .dataframe tbody tr th:only-of-type {\n",
              "        vertical-align: middle;\n",
              "    }\n",
              "\n",
              "    .dataframe tbody tr th {\n",
              "        vertical-align: top;\n",
              "    }\n",
              "\n",
              "    .dataframe thead th {\n",
              "        text-align: right;\n",
              "    }\n",
              "</style>\n",
              "<table border=\"1\" class=\"dataframe\">\n",
              "  <thead>\n",
              "    <tr style=\"text-align: right;\">\n",
              "      <th></th>\n",
              "      <th>Sport</th>\n",
              "      <th>Gold</th>\n",
              "    </tr>\n",
              "  </thead>\n",
              "  <tbody>\n",
              "    <tr>\n",
              "      <th>0</th>\n",
              "      <td>Aquatics</td>\n",
              "      <td>1421</td>\n",
              "    </tr>\n",
              "    <tr>\n",
              "      <th>1</th>\n",
              "      <td>Athletics</td>\n",
              "      <td>1215</td>\n",
              "    </tr>\n",
              "    <tr>\n",
              "      <th>17</th>\n",
              "      <td>Rowing</td>\n",
              "      <td>890</td>\n",
              "    </tr>\n",
              "    <tr>\n",
              "      <th>4</th>\n",
              "      <td>Gymnastics</td>\n",
              "      <td>820</td>\n",
              "    </tr>\n",
              "    <tr>\n",
              "      <th>3</th>\n",
              "      <td>Fencing</td>\n",
              "      <td>552</td>\n",
              "    </tr>\n",
              "  </tbody>\n",
              "</table>\n",
              "</div>"
            ],
            "text/plain": [
              "         Sport  Gold\n",
              "0     Aquatics  1421\n",
              "1    Athletics  1215\n",
              "17      Rowing   890\n",
              "4   Gymnastics   820\n",
              "3      Fencing   552"
            ]
          },
          "metadata": {},
          "execution_count": 92
        }
      ]
    },
    {
      "cell_type": "code",
      "metadata": {
        "colab": {
          "base_uri": "https://localhost:8080/",
          "height": 399
        },
        "id": "KOZuROWTkOQx",
        "outputId": "1708e0ea-764d-44e2-bff7-98640350fa72"
      },
      "source": [
        "data=pd.DataFrame(data, columns=['Sport' , 'Gold'])\n",
        "data= data.sort_values(by='Gold', ascending=False).head()\n",
        "\n",
        "\n",
        "data.plot(x = 'Sport', y = 'Gold' , kind = 'bar',figsize=(10,5) )"
      ],
      "execution_count": 93,
      "outputs": [
        {
          "output_type": "execute_result",
          "data": {
            "text/plain": [
              "<matplotlib.axes._subplots.AxesSubplot at 0x7f0473707b90>"
            ]
          },
          "metadata": {},
          "execution_count": 93
        },
        {
          "output_type": "display_data",
          "data": {
            "image/png": "[encoded data removed]",
            "text/plain": [
              "<Figure size 720x360 with 1 Axes>"
            ]
          },
          "metadata": {
            "needs_background": "light"
          }
        }
      ]
    },
    {
      "cell_type": "markdown",
      "metadata": {
        "id": "cHf9gJy7kQ_U"
      },
      "source": [
        "#3. Which sport is having most number of medals so far? (Top 5)\n"
      ]
    },
    {
      "cell_type": "code",
      "metadata": {
        "colab": {
          "base_uri": "https://localhost:8080/",
          "height": 203
        },
        "id": "S6HjP94tkUix",
        "outputId": "9ae6cc0f-06ab-4ead-d6ce-5c78a73a70c6"
      },
      "source": [
        "df = pd.read_csv(\"summer.csv\")\n",
        "data = []\n",
        "for Medal in df['Sport'].unique():\n",
        "    data.append([Medal , len(df[df['Sport']==Medal])])\n",
        "\n",
        "data=pd.DataFrame(data, columns=['Sport' , 'Medal'])\n",
        "data.sort_values(by='Medal', ascending=False).head()"
      ],
      "execution_count": 94,
      "outputs": [
        {
          "output_type": "execute_result",
          "data": {
            "text/html": [
              "<div>\n",
              "<style scoped>\n",
              "    .dataframe tbody tr th:only-of-type {\n",
              "        vertical-align: middle;\n",
              "    }\n",
              "\n",
              "    .dataframe tbody tr th {\n",
              "        vertical-align: top;\n",
              "    }\n",
              "\n",
              "    .dataframe thead th {\n",
              "        text-align: right;\n",
              "    }\n",
              "</style>\n",
              "<table border=\"1\" class=\"dataframe\">\n",
              "  <thead>\n",
              "    <tr style=\"text-align: right;\">\n",
              "      <th></th>\n",
              "      <th>Sport</th>\n",
              "      <th>Medal</th>\n",
              "    </tr>\n",
              "  </thead>\n",
              "  <tbody>\n",
              "    <tr>\n",
              "      <th>0</th>\n",
              "      <td>Aquatics</td>\n",
              "      <td>4170</td>\n",
              "    </tr>\n",
              "    <tr>\n",
              "      <th>1</th>\n",
              "      <td>Athletics</td>\n",
              "      <td>3638</td>\n",
              "    </tr>\n",
              "    <tr>\n",
              "      <th>17</th>\n",
              "      <td>Rowing</td>\n",
              "      <td>2667</td>\n",
              "    </tr>\n",
              "    <tr>\n",
              "      <th>4</th>\n",
              "      <td>Gymnastics</td>\n",
              "      <td>2307</td>\n",
              "    </tr>\n",
              "    <tr>\n",
              "      <th>3</th>\n",
              "      <td>Fencing</td>\n",
              "      <td>1613</td>\n",
              "    </tr>\n",
              "  </tbody>\n",
              "</table>\n",
              "</div>"
            ],
            "text/plain": [
              "         Sport  Medal\n",
              "0     Aquatics   4170\n",
              "1    Athletics   3638\n",
              "17      Rowing   2667\n",
              "4   Gymnastics   2307\n",
              "3      Fencing   1613"
            ]
          },
          "metadata": {},
          "execution_count": 94
        }
      ]
    },
    {
      "cell_type": "code",
      "metadata": {
        "colab": {
          "base_uri": "https://localhost:8080/",
          "height": 399
        },
        "id": "2JNma94qkY6U",
        "outputId": "0c9ea8fe-75a8-4786-f041-da893e99967d"
      },
      "source": [
        "data=pd.DataFrame(data, columns=['Sport' , 'Medal'])\n",
        "data=data.sort_values(by='Medal', ascending=False).head()\n",
        "data.plot(x = 'Sport', y = 'Medal' , kind = 'bar', figsize=(10,5) )\n"
      ],
      "execution_count": 95,
      "outputs": [
        {
          "output_type": "execute_result",
          "data": {
            "text/plain": [
              "<matplotlib.axes._subplots.AxesSubplot at 0x7f04735333d0>"
            ]
          },
          "metadata": {},
          "execution_count": 95
        },
        {
          "output_type": "display_data",
          "data": {
            "image/png": "[encoded data removed]",
            "text/plain": [
              "<Figure size 720x360 with 1 Axes>"
            ]
          },
          "metadata": {
            "needs_background": "light"
          }
        }
      ]
    },
    {
      "cell_type": "markdown",
      "metadata": {
        "id": "BHyq1OUTkewi"
      },
      "source": [
        "#4. Which player has won most number of medals? (Top 5)"
      ]
    },
    {
      "cell_type": "code",
      "metadata": {
        "colab": {
          "base_uri": "https://localhost:8080/",
          "height": 203
        },
        "id": "hhacr_PtkqNI",
        "outputId": "8752703a-6bb5-4135-a845-17f8e4933b93"
      },
      "source": [
        "data = []\n",
        "for Medal in df['Athlete'].unique():\n",
        "    data.append([Medal , len(df[df['Athlete']==Medal])])\n",
        "data=pd.DataFrame(data, columns=['Athlete' , 'Freq'])\n",
        "data.sort_values(by='Freq', ascending=False).head()"
      ],
      "execution_count": 96,
      "outputs": [
        {
          "output_type": "execute_result",
          "data": {
            "text/html": [
              "<div>\n",
              "<style scoped>\n",
              "    .dataframe tbody tr th:only-of-type {\n",
              "        vertical-align: middle;\n",
              "    }\n",
              "\n",
              "    .dataframe tbody tr th {\n",
              "        vertical-align: top;\n",
              "    }\n",
              "\n",
              "    .dataframe thead th {\n",
              "        text-align: right;\n",
              "    }\n",
              "</style>\n",
              "<table border=\"1\" class=\"dataframe\">\n",
              "  <thead>\n",
              "    <tr style=\"text-align: right;\">\n",
              "      <th></th>\n",
              "      <th>Athlete</th>\n",
              "      <th>Freq</th>\n",
              "    </tr>\n",
              "  </thead>\n",
              "  <tbody>\n",
              "    <tr>\n",
              "      <th>18640</th>\n",
              "      <td>PHELPS, Michael</td>\n",
              "      <td>22</td>\n",
              "    </tr>\n",
              "    <tr>\n",
              "      <th>7197</th>\n",
              "      <td>LATYNINA, Larisa</td>\n",
              "      <td>18</td>\n",
              "    </tr>\n",
              "    <tr>\n",
              "      <th>9948</th>\n",
              "      <td>ANDRIANOV, Nikolay</td>\n",
              "      <td>15</td>\n",
              "    </tr>\n",
              "    <tr>\n",
              "      <th>6591</th>\n",
              "      <td>ONO, Takashi</td>\n",
              "      <td>13</td>\n",
              "    </tr>\n",
              "    <tr>\n",
              "      <th>5103</th>\n",
              "      <td>MANGIAROTTI, Edoardo</td>\n",
              "      <td>13</td>\n",
              "    </tr>\n",
              "  </tbody>\n",
              "</table>\n",
              "</div>"
            ],
            "text/plain": [
              "                    Athlete  Freq\n",
              "18640       PHELPS, Michael    22\n",
              "7197       LATYNINA, Larisa    18\n",
              "9948     ANDRIANOV, Nikolay    15\n",
              "6591           ONO, Takashi    13\n",
              "5103   MANGIAROTTI, Edoardo    13"
            ]
          },
          "metadata": {},
          "execution_count": 96
        }
      ]
    },
    {
      "cell_type": "code",
      "metadata": {
        "colab": {
          "base_uri": "https://localhost:8080/",
          "height": 458
        },
        "id": "baaHnZRpktzs",
        "outputId": "a6f45da7-679f-4d61-e59c-d2c5d454d6d8"
      },
      "source": [
        "df.groupby('Athlete').count()['Medal'].sort_values(ascending=False).head().plot.bar(figsize=(10, 5))"
      ],
      "execution_count": 97,
      "outputs": [
        {
          "output_type": "execute_result",
          "data": {
            "text/plain": [
              "<matplotlib.axes._subplots.AxesSubplot at 0x7f047349ff90>"
            ]
          },
          "metadata": {},
          "execution_count": 97
        },
        {
          "output_type": "display_data",
          "data": {
            "image/png": "[encoded data removed]",
            "text/plain": [
              "<Figure size 720x360 with 1 Axes>"
            ]
          },
          "metadata": {
            "needs_background": "light"
          }
        }
      ]
    },
    {
      "cell_type": "markdown",
      "metadata": {
        "id": "UMPFVq6rkxo1"
      },
      "source": [
        "#5. Which player has won most number Gold Medals of medals? (Top 5)"
      ]
    },
    {
      "cell_type": "code",
      "metadata": {
        "colab": {
          "base_uri": "https://localhost:8080/",
          "height": 203
        },
        "id": "lnXb-J3Rk3hI",
        "outputId": "312bfd87-f12d-4f5b-c6de-47b6b7f646cd"
      },
      "source": [
        "df=df[df['Medal']=='Gold']\n",
        "\n",
        "data = []\n",
        "for Medal in df['Athlete'].unique():\n",
        "    data.append([Medal , len(df[df['Athlete']==Medal])])\n",
        "data=pd.DataFrame(data, columns=['Athlete' , 'Freq'])\n",
        "data.sort_values(by='Freq', ascending=False).head()\n"
      ],
      "execution_count": 98,
      "outputs": [
        {
          "output_type": "execute_result",
          "data": {
            "text/html": [
              "<div>\n",
              "<style scoped>\n",
              "    .dataframe tbody tr th:only-of-type {\n",
              "        vertical-align: middle;\n",
              "    }\n",
              "\n",
              "    .dataframe tbody tr th {\n",
              "        vertical-align: top;\n",
              "    }\n",
              "\n",
              "    .dataframe thead th {\n",
              "        text-align: right;\n",
              "    }\n",
              "</style>\n",
              "<table border=\"1\" class=\"dataframe\">\n",
              "  <thead>\n",
              "    <tr style=\"text-align: right;\">\n",
              "      <th></th>\n",
              "      <th>Athlete</th>\n",
              "      <th>Freq</th>\n",
              "    </tr>\n",
              "  </thead>\n",
              "  <tbody>\n",
              "    <tr>\n",
              "      <th>6851</th>\n",
              "      <td>PHELPS, Michael</td>\n",
              "      <td>18</td>\n",
              "    </tr>\n",
              "    <tr>\n",
              "      <th>3320</th>\n",
              "      <td>SPITZ, Mark</td>\n",
              "      <td>9</td>\n",
              "    </tr>\n",
              "    <tr>\n",
              "      <th>2714</th>\n",
              "      <td>LATYNINA, Larisa</td>\n",
              "      <td>9</td>\n",
              "    </tr>\n",
              "    <tr>\n",
              "      <th>4630</th>\n",
              "      <td>LEWIS, Carl</td>\n",
              "      <td>9</td>\n",
              "    </tr>\n",
              "    <tr>\n",
              "      <th>907</th>\n",
              "      <td>NURMI, Paavo</td>\n",
              "      <td>9</td>\n",
              "    </tr>\n",
              "  </tbody>\n",
              "</table>\n",
              "</div>"
            ],
            "text/plain": [
              "               Athlete  Freq\n",
              "6851   PHELPS, Michael    18\n",
              "3320       SPITZ, Mark     9\n",
              "2714  LATYNINA, Larisa     9\n",
              "4630       LEWIS, Carl     9\n",
              "907       NURMI, Paavo     9"
            ]
          },
          "metadata": {},
          "execution_count": 98
        }
      ]
    },
    {
      "cell_type": "code",
      "metadata": {
        "colab": {
          "base_uri": "https://localhost:8080/",
          "height": 426
        },
        "id": "j0UhkGCXk-lk",
        "outputId": "c95b9d9b-4232-45c0-bb42-dafbeb5c4c56"
      },
      "source": [
        "df.groupby('Athlete').count()['Medal'].sort_values(ascending=False).head().plot.bar(figsize=(10, 5))"
      ],
      "execution_count": 99,
      "outputs": [
        {
          "output_type": "execute_result",
          "data": {
            "text/plain": [
              "<matplotlib.axes._subplots.AxesSubplot at 0x7f0473b8f550>"
            ]
          },
          "metadata": {},
          "execution_count": 99
        },
        {
          "output_type": "display_data",
          "data": {
            "image/png": "[encoded data removed]",
            "text/plain": [
              "<Figure size 720x360 with 1 Axes>"
            ]
          },
          "metadata": {
            "needs_background": "light"
          }
        }
      ]
    },
    {
      "cell_type": "markdown",
      "metadata": {
        "id": "_w0zNTc_lEEk"
      },
      "source": [
        "#6. In which year India won first Gold Medal in Summer Olympics?"
      ]
    },
    {
      "cell_type": "code",
      "metadata": {
        "colab": {
          "base_uri": "https://localhost:8080/",
          "height": 80
        },
        "id": "SPd1Hl3FlHnc",
        "outputId": "d6e41f32-4e8b-486e-9909-b8e9cee50703"
      },
      "source": [
        "df = pd.read_csv(\"summer.csv\")\n",
        "df=df[df['Country']=='IND']\n",
        "df=df[df['Medal']=='Gold']\n",
        "\n",
        "data=[]\n",
        "for year in df['Year'].unique():\n",
        "    data.append([year, len(df[df['Year']==year])])\n",
        "\n",
        "data=pd.DataFrame(data, columns=['Year' , 'Gold'])\n",
        "data.sort_values(by='Year', ascending=True).head(1)"
      ],
      "execution_count": 100,
      "outputs": [
        {
          "output_type": "execute_result",
          "data": {
            "text/html": [
              "<div>\n",
              "<style scoped>\n",
              "    .dataframe tbody tr th:only-of-type {\n",
              "        vertical-align: middle;\n",
              "    }\n",
              "\n",
              "    .dataframe tbody tr th {\n",
              "        vertical-align: top;\n",
              "    }\n",
              "\n",
              "    .dataframe thead th {\n",
              "        text-align: right;\n",
              "    }\n",
              "</style>\n",
              "<table border=\"1\" class=\"dataframe\">\n",
              "  <thead>\n",
              "    <tr style=\"text-align: right;\">\n",
              "      <th></th>\n",
              "      <th>Year</th>\n",
              "      <th>Gold</th>\n",
              "    </tr>\n",
              "  </thead>\n",
              "  <tbody>\n",
              "    <tr>\n",
              "      <th>0</th>\n",
              "      <td>1928</td>\n",
              "      <td>15</td>\n",
              "    </tr>\n",
              "  </tbody>\n",
              "</table>\n",
              "</div>"
            ],
            "text/plain": [
              "   Year  Gold\n",
              "0  1928    15"
            ]
          },
          "metadata": {},
          "execution_count": 100
        }
      ]
    },
    {
      "cell_type": "markdown",
      "metadata": {
        "id": "qJLKyWwDlN1-"
      },
      "source": [
        "#7. Which event is most popular in terms on number of players? (Top 5)\n"
      ]
    },
    {
      "cell_type": "code",
      "metadata": {
        "colab": {
          "base_uri": "https://localhost:8080/",
          "height": 203
        },
        "id": "HZ22AHgclXf-",
        "outputId": "9ed0313a-4954-4dc6-94b8-97305b9603c6"
      },
      "source": [
        "df = pd.read_csv(\"summer.csv\")\n",
        "data=[]\n",
        "for event in df['Event'].unique():\n",
        "    data.append([event, len(df[df['Event']==event])])\n",
        "\n",
        "data=pd.DataFrame(data, columns=['Event' , 'freq'])\n",
        "data.sort_values(by='freq', ascending=False).head()\n"
      ],
      "execution_count": 101,
      "outputs": [
        {
          "output_type": "execute_result",
          "data": {
            "text/html": [
              "<div>\n",
              "<style scoped>\n",
              "    .dataframe tbody tr th:only-of-type {\n",
              "        vertical-align: middle;\n",
              "    }\n",
              "\n",
              "    .dataframe tbody tr th {\n",
              "        vertical-align: top;\n",
              "    }\n",
              "\n",
              "    .dataframe thead th {\n",
              "        text-align: right;\n",
              "    }\n",
              "</style>\n",
              "<table border=\"1\" class=\"dataframe\">\n",
              "  <thead>\n",
              "    <tr style=\"text-align: right;\">\n",
              "      <th></th>\n",
              "      <th>Event</th>\n",
              "      <th>freq</th>\n",
              "    </tr>\n",
              "  </thead>\n",
              "  <tbody>\n",
              "    <tr>\n",
              "      <th>80</th>\n",
              "      <td>Football</td>\n",
              "      <td>1497</td>\n",
              "    </tr>\n",
              "    <tr>\n",
              "      <th>176</th>\n",
              "      <td>Hockey</td>\n",
              "      <td>1422</td>\n",
              "    </tr>\n",
              "    <tr>\n",
              "      <th>138</th>\n",
              "      <td>Team Competition</td>\n",
              "      <td>1147</td>\n",
              "    </tr>\n",
              "    <tr>\n",
              "      <th>327</th>\n",
              "      <td>Basketball</td>\n",
              "      <td>1012</td>\n",
              "    </tr>\n",
              "    <tr>\n",
              "      <th>337</th>\n",
              "      <td>Handball</td>\n",
              "      <td>973</td>\n",
              "    </tr>\n",
              "  </tbody>\n",
              "</table>\n",
              "</div>"
            ],
            "text/plain": [
              "                Event  freq\n",
              "80           Football  1497\n",
              "176            Hockey  1422\n",
              "138  Team Competition  1147\n",
              "327        Basketball  1012\n",
              "337          Handball   973"
            ]
          },
          "metadata": {},
          "execution_count": 101
        }
      ]
    },
    {
      "cell_type": "code",
      "metadata": {
        "colab": {
          "base_uri": "https://localhost:8080/",
          "height": 431
        },
        "id": "ezXbrBHGla_k",
        "outputId": "1598ddcc-b580-4d3b-ddc4-dfe0a6214081"
      },
      "source": [
        "data=pd.DataFrame(data, columns=['Event' , 'freq'])\n",
        "data.sort_values(by='freq', ascending=False).head().plot(x='Event',y='freq', kind='bar', figsize=(10,5))\n"
      ],
      "execution_count": 102,
      "outputs": [
        {
          "output_type": "execute_result",
          "data": {
            "text/plain": [
              "<matplotlib.axes._subplots.AxesSubplot at 0x7f04732248d0>"
            ]
          },
          "metadata": {},
          "execution_count": 102
        },
        {
          "output_type": "display_data",
          "data": {
            "image/png": "[encoded data removed]",
            "text/plain": [
              "<Figure size 720x360 with 1 Axes>"
            ]
          },
          "metadata": {
            "needs_background": "light"
          }
        }
      ]
    },
    {
      "cell_type": "markdown",
      "metadata": {
        "id": "9RGcUMjzlfvb"
      },
      "source": [
        "#8. Which sport is having most female Gold Medalists? (Top 5)"
      ]
    },
    {
      "cell_type": "code",
      "metadata": {
        "colab": {
          "base_uri": "https://localhost:8080/",
          "height": 203
        },
        "id": "2LmdQgTNlmWx",
        "outputId": "2d7e3e41-fa08-4be9-9dd9-44b88a99aa75"
      },
      "source": [
        "df = pd.read_csv(\"summer.csv\")\n",
        "df=df[df['Gender']=='Women']\n",
        "df=df[df['Medal']=='Gold']\n",
        "\n",
        "data=[]\n",
        "for sport in df['Sport'].unique():\n",
        "    data.append([sport, len(df[df['Sport']==sport])])\n",
        "\n",
        "data=pd.DataFrame(data, columns=['Sport' , 'Gold'])\n",
        "data.sort_values(by='Gold', ascending=False).head()"
      ],
      "execution_count": 103,
      "outputs": [
        {
          "output_type": "execute_result",
          "data": {
            "text/html": [
              "<div>\n",
              "<style scoped>\n",
              "    .dataframe tbody tr th:only-of-type {\n",
              "        vertical-align: middle;\n",
              "    }\n",
              "\n",
              "    .dataframe tbody tr th {\n",
              "        vertical-align: top;\n",
              "    }\n",
              "\n",
              "    .dataframe thead th {\n",
              "        text-align: right;\n",
              "    }\n",
              "</style>\n",
              "<table border=\"1\" class=\"dataframe\">\n",
              "  <thead>\n",
              "    <tr style=\"text-align: right;\">\n",
              "      <th></th>\n",
              "      <th>Sport</th>\n",
              "      <th>Gold</th>\n",
              "    </tr>\n",
              "  </thead>\n",
              "  <tbody>\n",
              "    <tr>\n",
              "      <th>4</th>\n",
              "      <td>Aquatics</td>\n",
              "      <td>589</td>\n",
              "    </tr>\n",
              "    <tr>\n",
              "      <th>7</th>\n",
              "      <td>Athletics</td>\n",
              "      <td>389</td>\n",
              "    </tr>\n",
              "    <tr>\n",
              "      <th>8</th>\n",
              "      <td>Gymnastics</td>\n",
              "      <td>268</td>\n",
              "    </tr>\n",
              "    <tr>\n",
              "      <th>14</th>\n",
              "      <td>Rowing</td>\n",
              "      <td>217</td>\n",
              "    </tr>\n",
              "    <tr>\n",
              "      <th>11</th>\n",
              "      <td>Volleyball</td>\n",
              "      <td>166</td>\n",
              "    </tr>\n",
              "  </tbody>\n",
              "</table>\n",
              "</div>"
            ],
            "text/plain": [
              "         Sport  Gold\n",
              "4     Aquatics   589\n",
              "7    Athletics   389\n",
              "8   Gymnastics   268\n",
              "14      Rowing   217\n",
              "11  Volleyball   166"
            ]
          },
          "metadata": {},
          "execution_count": 103
        }
      ]
    },
    {
      "cell_type": "code",
      "metadata": {
        "colab": {
          "base_uri": "https://localhost:8080/",
          "height": 399
        },
        "id": "gyFfwzwVlrdV",
        "outputId": "5ff1394c-2c2c-4fae-8306-77889cb0c807"
      },
      "source": [
        "data=pd.DataFrame(data, columns=['Sport' , 'Gold'])\n",
        "data.sort_values(by='Gold', ascending=False).head().plot(x='Sport', y='Gold', kind='bar', figsize=(10,5))"
      ],
      "execution_count": 104,
      "outputs": [
        {
          "output_type": "execute_result",
          "data": {
            "text/plain": [
              "<matplotlib.axes._subplots.AxesSubplot at 0x7f04730430d0>"
            ]
          },
          "metadata": {},
          "execution_count": 104
        },
        {
          "output_type": "display_data",
          "data": {
            "image/png": "[encoded data removed]",
            "text/plain": [
              "<Figure size 720x360 with 1 Axes>"
            ]
          },
          "metadata": {
            "needs_background": "light"
          }
        }
      ]
    }
  ]
}